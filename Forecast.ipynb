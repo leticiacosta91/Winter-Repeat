{
 "cells": [
  {
   "cell_type": "raw",
   "id": "cbd7d6ae",
   "metadata": {},
   "source": [
    "!pip install darts\n",
    "!pip install skforecast\n",
    "!pip install sktime"
   ]
  },
  {
   "cell_type": "code",
   "execution_count": 1,
   "id": "e6299122",
   "metadata": {},
   "outputs": [],
   "source": [
    "import pandas as pd\n",
    "import re\n",
    "import itertools\n",
    "from tqdm.notebook import tqdm\n",
    "import matplotlib.pyplot as plt\n",
    "import numpy as np"
   ]
  },
  {
   "cell_type": "code",
   "execution_count": 2,
   "id": "0e55515d",
   "metadata": {},
   "outputs": [],
   "source": [
    "#Spark\n",
    "from pyspark.sql import SparkSession\n",
    "from pyspark.sql.window import Window\n",
    "from pyspark import SparkConf"
   ]
  },
  {
   "cell_type": "code",
   "execution_count": 3,
   "id": "601888be",
   "metadata": {},
   "outputs": [],
   "source": [
    "# Spark ML\n",
    "from pyspark.ml import Pipeline\n",
    "from pyspark.ml.feature import StringIndexer, OneHotEncoder, VectorAssembler\n",
    "from pyspark.ml.feature import HashingTF, Tokenizer, StopWordsRemover\n",
    "from pyspark.ml.classification import DecisionTreeClassifier, GBTClassifier, LogisticRegression\n",
    "from pyspark.ml.regression import DecisionTreeRegressor, GBTRegressor, DecisionTreeRegressionModel\n"
   ]
  },
  {
   "cell_type": "code",
   "execution_count": 4,
   "id": "d9d5dc9d",
   "metadata": {},
   "outputs": [],
   "source": [
    "#Spark SQL functions\n",
    "from pyspark.sql.functions import *\n",
    "from pyspark.sql.functions import from_utc_timestamp, udf, array_distinct, col, when\n",
    "from pyspark.sql.functions import regexp_replace, year, month, dayofmonth, hour, format_string\n",
    "from pyspark.sql.functions import monotonically_increasing_id"
   ]
  },
  {
   "cell_type": "code",
   "execution_count": 5,
   "id": "39707ed3",
   "metadata": {},
   "outputs": [],
   "source": [
    "# Spark Datatypes\n",
    "from pyspark.sql.types import StringType, TimestampType, DateType, IntegerType\n",
    "from pyspark.sql.types import DoubleType, StructType, FloatType, StructField"
   ]
  },
  {
   "cell_type": "code",
   "execution_count": 6,
   "id": "a8b3a9fc",
   "metadata": {},
   "outputs": [],
   "source": [
    "# Spark evaluation metrics\n",
    "from pyspark.ml.evaluation import BinaryClassificationEvaluator\n",
    "from pyspark.ml.evaluation import RegressionEvaluator\n",
    "from pyspark.ml.evaluation import MulticlassClassificationEvaluator"
   ]
  },
  {
   "cell_type": "raw",
   "id": "91da115f",
   "metadata": {},
   "source": [
    "!pip install vaderSentiment"
   ]
  },
  {
   "cell_type": "code",
   "execution_count": 7,
   "id": "ac890581",
   "metadata": {
    "scrolled": true
   },
   "outputs": [],
   "source": [
    "#Sentiment Analyzer\n",
    "from textblob import TextBlob\n",
    "from vaderSentiment.vaderSentiment import SentimentIntensityAnalyzer"
   ]
  },
  {
   "cell_type": "code",
   "execution_count": 8,
   "id": "a7e9a7e1",
   "metadata": {},
   "outputs": [],
   "source": [
    "import warnings\n",
    "\n",
    "# Suppressing the warnings\n",
    "warnings.filterwarnings('ignore') "
   ]
  },
  {
   "cell_type": "code",
   "execution_count": 9,
   "id": "5158ef50",
   "metadata": {},
   "outputs": [
    {
     "name": "stderr",
     "output_type": "stream",
     "text": [
      "24/01/03 17:09:24 WARN Utils: Your hostname, BDS-2023 resolves to a loopback address: 127.0.1.1; using 10.0.2.15 instead (on interface enp0s3)\n",
      "24/01/03 17:09:24 WARN Utils: Set SPARK_LOCAL_IP if you need to bind to another address\n",
      "Using Spark's default log4j profile: org/apache/spark/log4j-defaults.properties\n",
      "Setting default log level to \"WARN\".\n",
      "To adjust logging level use sc.setLogLevel(newLevel). For SparkR, use setLogLevel(newLevel).\n",
      "24/01/03 17:09:31 WARN NativeCodeLoader: Unable to load native-hadoop library for your platform... using builtin-java classes where applicable\n",
      "24/01/03 17:09:37 WARN Utils: Service 'SparkUI' could not bind on port 4040. Attempting port 4041.\n"
     ]
    }
   ],
   "source": [
    "spark_conf = SparkConf().setMaster(\"local[*]\").setAppName(\"Tweets_Hadoop\")\n",
    "\n",
    "spark = SparkSession.builder.config(conf=spark_conf).config('spark.sql.session.timeZone', 'UTC').getOrCreate()\n",
    "\n",
    "sc = spark.sparkContext\n",
    "\n",
    "sc.setLogLevel('ERROR')"
   ]
  },
  {
   "cell_type": "code",
   "execution_count": 10,
   "id": "ee5007e3",
   "metadata": {},
   "outputs": [
    {
     "name": "stderr",
     "output_type": "stream",
     "text": [
      "                                                                                \r"
     ]
    }
   ],
   "source": [
    "df_salvo = spark.read.parquet(\"hdfs://localhost:9000/CA4/sentiment\")"
   ]
  },
  {
   "cell_type": "code",
   "execution_count": 11,
   "id": "6fbcd1d9",
   "metadata": {},
   "outputs": [],
   "source": [
    "#getting sentiment\n",
    "tweets_df = df_salvo.withColumn('sentiment',when(col(\"score\") > 0, '1').otherwise('0'))"
   ]
  },
  {
   "cell_type": "code",
   "execution_count": 12,
   "id": "95b4e364",
   "metadata": {},
   "outputs": [],
   "source": [
    "spark.conf.set(\"spark.sql.legacy.timeParserPolicy\",\"LEGACY\")\n",
    "\n",
    "tweets_hour = tweets_df.groupBy(year(\"Date/Time\").alias(\"year\"), \n",
    "                              month(\"Date/Time\").alias(\"month\"),\n",
    "                              dayofmonth(\"Date/Time\").alias(\"day\"),\n",
    "                              hour(\"Date/Time\").alias(\"hour\"),\n",
    "                              \"sentiment\") \\\n",
    "                        .agg(mean(col(\"score\")).alias(\"hourly_score\"), count(col(\"score\")).alias(\"hourly_count\")) \\\n",
    "                        .orderBy([\"year\", \"month\", \"day\", \"hour\"])"
   ]
  },
  {
   "cell_type": "code",
   "execution_count": 13,
   "id": "1baef945",
   "metadata": {},
   "outputs": [],
   "source": [
    "tweets_hour = tweets_hour.withColumn(\"datetime\", to_timestamp(concat_ws(\"-\", col(\"year\"), col(\"month\"), col(\"day\"), col(\"hour\")), \"yyyy-MM-dd-HH\"))"
   ]
  },
  {
   "cell_type": "code",
   "execution_count": 14,
   "id": "4f93455f",
   "metadata": {},
   "outputs": [
    {
     "name": "stdout",
     "output_type": "stream",
     "text": [
      "root\n",
      " |-- year: integer (nullable = true)\n",
      " |-- month: integer (nullable = true)\n",
      " |-- day: integer (nullable = true)\n",
      " |-- hour: integer (nullable = true)\n",
      " |-- sentiment: string (nullable = false)\n",
      " |-- hourly_score: double (nullable = true)\n",
      " |-- hourly_count: long (nullable = false)\n",
      " |-- datetime: timestamp (nullable = true)\n",
      "\n"
     ]
    }
   ],
   "source": [
    "tweets_hour.printSchema()"
   ]
  },
  {
   "cell_type": "code",
   "execution_count": 15,
   "id": "d7b870f9",
   "metadata": {},
   "outputs": [
    {
     "name": "stderr",
     "output_type": "stream",
     "text": [
      "                                                                                \r"
     ]
    },
    {
     "name": "stdout",
     "output_type": "stream",
     "text": [
      "+----+-----+---+----+---------+--------------------+------------+-------------------+\n",
      "|year|month|day|hour|sentiment|        hourly_score|hourly_count|           datetime|\n",
      "+----+-----+---+----+---------+--------------------+------------+-------------------+\n",
      "|2009|    4|  7|   5|        0|-0.40446523275664625|          17|2009-04-07 05:00:00|\n",
      "|2009|    4|  7|   5|        1|   0.647632026921201|          64|2009-04-07 05:00:00|\n",
      "|2009|    4|  7|   6|        0|-0.43247338705696164|          20|2009-04-07 06:00:00|\n",
      "|2009|    4|  7|   6|        1|  0.6010633023226333|          85|2009-04-07 06:00:00|\n",
      "|2009|    4|  7|   7|        1|   0.604386412268001|          74|2009-04-07 07:00:00|\n",
      "|2009|    4|  7|   7|        0| -0.3747279641063263|          15|2009-04-07 07:00:00|\n",
      "|2009|    4|  7|   8|        1|  0.6137161426389447|          65|2009-04-07 08:00:00|\n",
      "|2009|    4|  7|   8|        0|-0.35458866360464264|          21|2009-04-07 08:00:00|\n",
      "|2009|    4|  7|   9|        1|  0.6003446724369295|          72|2009-04-07 09:00:00|\n",
      "|2009|    4|  7|   9|        0| -0.4019464289303869|           6|2009-04-07 09:00:00|\n",
      "+----+-----+---+----+---------+--------------------+------------+-------------------+\n",
      "only showing top 10 rows\n",
      "\n"
     ]
    }
   ],
   "source": [
    "tweets_hour.show(10)"
   ]
  },
  {
   "cell_type": "code",
   "execution_count": 16,
   "id": "debdb772",
   "metadata": {},
   "outputs": [
    {
     "name": "stderr",
     "output_type": "stream",
     "text": [
      "                                                                                \r"
     ]
    },
    {
     "data": {
      "image/png": "[encoded data removed]",
      "text/plain": [
       "<Figure size 432x288 with 1 Axes>"
      ]
     },
     "metadata": {
      "needs_background": "light"
     },
     "output_type": "display_data"
    }
   ],
   "source": [
    "plot_df = tweets_hour.select('hourly_count').toPandas()\n",
    "\n",
    "plot_df.hist(bins = 50)\n",
    "plt.yscale('log')\n",
    "plt.suptitle('Histogram',x=0.5, y=1.02, fontsize='x-large');"
   ]
  },
  {
   "cell_type": "code",
   "execution_count": 17,
   "id": "59f2f460",
   "metadata": {},
   "outputs": [],
   "source": [
    "def convert_type(df,to_string=[], to_integer=[], to_double = []):\n",
    "    col_names = df.columns\n",
    "    \n",
    "    if len(to_string) > 0:\n",
    "        for col in to_string:\n",
    "            df = df.withColumn(col,df[col].cast(StringType()))\n",
    "    \n",
    "    if len(to_integer) > 0:\n",
    "        for col in to_integer:\n",
    "            df = df.withColumn(col,df[col].cast(IntegerType()))\n",
    "            \n",
    "    if len(to_double) > 0:\n",
    "        for col in to_double:\n",
    "            df = df.withColumn(col,df[col].cast(DoubleType()))\n",
    "            \n",
    "    return df"
   ]
  },
  {
   "cell_type": "code",
   "execution_count": 18,
   "id": "fba1ebe6",
   "metadata": {},
   "outputs": [],
   "source": [
    "def compute_metrics_reg(predictions, model_name, labelcol = 'target'):\n",
    "    \n",
    "    rmse_obj = RegressionEvaluator(metricName = 'rmse', predictionCol = 'prediction', labelCol = labelcol)\n",
    "    \n",
    "    rsquared_obj = RegressionEvaluator(metricName = 'r2', predictionCol = 'prediction', labelCol = labelcol)\n",
    "    \n",
    "    print(model_name, 'Metrics:\\nRMSE Score:',\\\n",
    "          str(rmse_obj.evaluate(predictions))+ '\\nR-Squared Value:',\\\n",
    "          str(rsquared_obj.evaluate(predictions)))"
   ]
  },
  {
   "cell_type": "code",
   "execution_count": 19,
   "id": "d6cea8ec",
   "metadata": {},
   "outputs": [
    {
     "name": "stdout",
     "output_type": "stream",
     "text": [
      "Defaulting to user installation because normal site-packages is not writeable\n",
      "Requirement already satisfied: statsforecast in /home/hduser/.local/lib/python3.10/site-packages (1.7.0)\n",
      "Requirement already satisfied: pandas>=1.3.5 in /home/hduser/.local/lib/python3.10/site-packages (from statsforecast) (2.0.0)\n",
      "Requirement already satisfied: scipy>=1.7.3 in /usr/lib/python3/dist-packages (from statsforecast) (1.8.0)\n",
      "Requirement already satisfied: statsmodels>=0.13.2 in /home/hduser/.local/lib/python3.10/site-packages (from statsforecast) (0.14.1)\n",
      "Requirement already satisfied: tqdm in /home/hduser/.local/lib/python3.10/site-packages (from statsforecast) (4.66.1)\n",
      "Requirement already satisfied: numpy>=1.21.6 in /home/hduser/.local/lib/python3.10/site-packages (from statsforecast) (1.23.5)\n",
      "Requirement already satisfied: fugue>=0.8.1 in /home/hduser/.local/lib/python3.10/site-packages (from statsforecast) (0.8.7)\n",
      "Requirement already satisfied: numba>=0.55.0 in /home/hduser/.local/lib/python3.10/site-packages (from statsforecast) (0.58.1)\n",
      "Requirement already satisfied: utilsforecast>=0.0.23 in /home/hduser/.local/lib/python3.10/site-packages (from statsforecast) (0.0.24)\n",
      "Requirement already satisfied: cloudpickle in /home/hduser/.local/lib/python3.10/site-packages (from statsforecast) (3.0.0)\n",
      "Requirement already satisfied: qpd>=0.4.4 in /home/hduser/.local/lib/python3.10/site-packages (from fugue>=0.8.1->statsforecast) (0.4.4)\n",
      "Requirement already satisfied: adagio>=0.2.4 in /home/hduser/.local/lib/python3.10/site-packages (from fugue>=0.8.1->statsforecast) (0.2.4)\n",
      "Requirement already satisfied: jinja2 in /home/hduser/.local/lib/python3.10/site-packages (from fugue>=0.8.1->statsforecast) (3.1.2)\n",
      "Requirement already satisfied: triad>=0.9.3 in /home/hduser/.local/lib/python3.10/site-packages (from fugue>=0.8.1->statsforecast) (0.9.3)\n",
      "Requirement already satisfied: sqlglot in /home/hduser/.local/lib/python3.10/site-packages (from fugue>=0.8.1->statsforecast) (20.2.0)\n",
      "Requirement already satisfied: fugue-sql-antlr>=0.1.6 in /home/hduser/.local/lib/python3.10/site-packages (from fugue>=0.8.1->statsforecast) (0.2.0)\n",
      "Requirement already satisfied: llvmlite<0.42,>=0.41.0dev0 in /home/hduser/.local/lib/python3.10/site-packages (from numba>=0.55.0->statsforecast) (0.41.1)\n",
      "Requirement already satisfied: python-dateutil>=2.8.2 in /home/hduser/.local/lib/python3.10/site-packages (from pandas>=1.3.5->statsforecast) (2.8.2)\n",
      "Requirement already satisfied: pytz>=2020.1 in /usr/lib/python3/dist-packages (from pandas>=1.3.5->statsforecast) (2022.1)\n",
      "Requirement already satisfied: tzdata>=2022.1 in /home/hduser/.local/lib/python3.10/site-packages (from pandas>=1.3.5->statsforecast) (2023.3)\n",
      "Requirement already satisfied: patsy>=0.5.4 in /home/hduser/.local/lib/python3.10/site-packages (from statsmodels>=0.13.2->statsforecast) (0.5.5)\n",
      "Requirement already satisfied: packaging>=21.3 in /usr/lib/python3/dist-packages (from statsmodels>=0.13.2->statsforecast) (21.3)\n",
      "Requirement already satisfied: antlr4-python3-runtime<4.12 in /home/hduser/.local/lib/python3.10/site-packages (from fugue-sql-antlr>=0.1.6->fugue>=0.8.1->statsforecast) (4.11.1)\n",
      "Requirement already satisfied: six in /usr/lib/python3/dist-packages (from patsy>=0.5.4->statsmodels>=0.13.2->statsforecast) (1.16.0)\n",
      "Requirement already satisfied: fsspec>=2022.5.0 in /home/hduser/.local/lib/python3.10/site-packages (from triad>=0.9.3->fugue>=0.8.1->statsforecast) (2023.12.2)\n",
      "Requirement already satisfied: pyarrow>=6.0.1 in /home/hduser/.local/lib/python3.10/site-packages (from triad>=0.9.3->fugue>=0.8.1->statsforecast) (14.0.1)\n",
      "Requirement already satisfied: fs in /usr/lib/python3/dist-packages (from triad>=0.9.3->fugue>=0.8.1->statsforecast) (2.4.12)\n",
      "Requirement already satisfied: MarkupSafe>=2.0 in /home/hduser/.local/lib/python3.10/site-packages (from jinja2->fugue>=0.8.1->statsforecast) (2.1.2)\n"
     ]
    }
   ],
   "source": [
    "!pip install statsforecast\n",
    "\n"
   ]
  },
  {
   "cell_type": "markdown",
   "id": "ae139bd4",
   "metadata": {},
   "source": [
    "# AutoARIMA"
   ]
  },
  {
   "cell_type": "code",
   "execution_count": 20,
   "id": "f93c3e74",
   "metadata": {
    "scrolled": true
   },
   "outputs": [],
   "source": [
    "#from statsforecast.distributed.utils import forecast\n",
    "from statsforecast.distributed.fugue import FugueBackend\n",
    "from statsforecast.models import AutoARIMA\n",
    "from statsforecast.core import StatsForecast"
   ]
  },
  {
   "cell_type": "code",
   "execution_count": 21,
   "id": "1f692dc9",
   "metadata": {
    "scrolled": true
   },
   "outputs": [
    {
     "name": "stdout",
     "output_type": "stream",
     "text": [
      "root\n",
      " |-- unique_id: string (nullable = false)\n",
      " |-- ds: timestamp (nullable = true)\n",
      " |-- y: long (nullable = false)\n",
      "\n"
     ]
    }
   ],
   "source": [
    "df_hour = tweets_hour.select('sentiment', 'datetime', 'hourly_count') \\\n",
    "                        .withColumnRenamed('sentiment', 'unique_id') \\\n",
    "                        .withColumnRenamed('datetime', 'ds') \\\n",
    "                        .withColumnRenamed('hourly_count', 'y')\n",
    "df_hour.printSchema()"
   ]
  },
  {
   "cell_type": "code",
   "execution_count": 22,
   "id": "e48f90b4",
   "metadata": {},
   "outputs": [],
   "source": [
    "from pyspark.sql import functions as F\n",
    "\n",
    "# Filtrando o DataFrame para o período desejado (abril e maio de 2009)\n",
    "df_filtered = df_hour.filter(\n",
    "    (F.to_date(F.date_format('ds', 'yyyy-MM-dd')) >= '2009-04-01') & \n",
    "    (F.to_date(F.date_format('ds', 'yyyy-MM-dd')) <= '2009-05-31')\n",
    ")\n"
   ]
  },
  {
   "cell_type": "code",
   "execution_count": 23,
   "id": "a09984d4",
   "metadata": {},
   "outputs": [
    {
     "name": "stderr",
     "output_type": "stream",
     "text": [
      "[Stage 12:=============================================>            (7 + 2) / 9]\r"
     ]
    },
    {
     "name": "stdout",
     "output_type": "stream",
     "text": [
      "Meses disponíveis:\n",
      "6\n",
      "5\n",
      "4\n"
     ]
    },
    {
     "name": "stderr",
     "output_type": "stream",
     "text": [
      "\r",
      "                                                                                \r"
     ]
    }
   ],
   "source": [
    "from pyspark.sql.functions import month\n",
    "\n",
    "# Adicionando uma coluna 'month' ao DataFrame\n",
    "df_with_month = df_hour.withColumn('month', month('ds'))\n",
    "\n",
    "# Extraindo os valores únicos do mês\n",
    "unique_months = df_with_month.select('month').distinct().collect()\n",
    "\n",
    "# Exibindo os meses únicos\n",
    "print(\"Meses disponíveis:\")\n",
    "for row in unique_months:\n",
    "    print(row.month)\n"
   ]
  },
  {
   "cell_type": "code",
   "execution_count": 24,
   "id": "537ea37e",
   "metadata": {
    "scrolled": true
   },
   "outputs": [
    {
     "name": "stderr",
     "output_type": "stream",
     "text": [
      "                                                                                \r"
     ]
    },
    {
     "name": "stdout",
     "output_type": "stream",
     "text": [
      "+---------+-------------------+---+\n",
      "|unique_id|                 ds|  y|\n",
      "+---------+-------------------+---+\n",
      "|        1|2009-04-07 05:00:00| 64|\n",
      "|        0|2009-04-07 05:00:00| 17|\n",
      "|        0|2009-04-07 06:00:00| 20|\n",
      "|        1|2009-04-07 06:00:00| 85|\n",
      "|        1|2009-04-07 07:00:00| 74|\n",
      "|        0|2009-04-07 07:00:00| 15|\n",
      "|        0|2009-04-07 08:00:00| 21|\n",
      "|        1|2009-04-07 08:00:00| 65|\n",
      "|        1|2009-04-07 09:00:00| 72|\n",
      "|        0|2009-04-07 09:00:00|  6|\n",
      "|        1|2009-04-07 10:00:00| 80|\n",
      "|        0|2009-04-07 10:00:00| 24|\n",
      "|        0|2009-04-07 11:00:00| 30|\n",
      "|        1|2009-04-07 11:00:00| 76|\n",
      "|        1|2009-04-07 12:00:00| 61|\n",
      "|        0|2009-04-07 12:00:00| 20|\n",
      "|        1|2009-04-07 13:00:00| 62|\n",
      "|        0|2009-04-07 13:00:00| 18|\n",
      "|        0|2009-04-07 14:00:00| 28|\n",
      "|        1|2009-04-07 14:00:00| 76|\n",
      "+---------+-------------------+---+\n",
      "only showing top 20 rows\n",
      "\n"
     ]
    }
   ],
   "source": [
    "df_filtered.show()\n"
   ]
  },
  {
   "cell_type": "markdown",
   "id": "14769c6c",
   "metadata": {},
   "source": [
    "## Training and Testing"
   ]
  },
  {
   "cell_type": "code",
   "execution_count": 33,
   "id": "bbf5bb9d",
   "metadata": {},
   "outputs": [
    {
     "name": "stderr",
     "output_type": "stream",
     "text": [
      "                                                                                \r"
     ]
    },
    {
     "name": "stdout",
     "output_type": "stream",
     "text": [
      "Training: 586 -> 49.79%\n"
     ]
    },
    {
     "name": "stderr",
     "output_type": "stream",
     "text": [
      "[Stage 365:================================================>   (188 + 12) / 200]\r"
     ]
    },
    {
     "name": "stdout",
     "output_type": "stream",
     "text": [
      "Testing: 591 -> 50.21%\n",
      "root\n",
      " |-- unique_id: string (nullable = false)\n",
      " |-- ds: timestamp (nullable = true)\n",
      " |-- y: long (nullable = false)\n",
      "\n",
      "root\n",
      " |-- unique_id: string (nullable = false)\n",
      " |-- ds: timestamp (nullable = true)\n",
      " |-- y: long (nullable = false)\n",
      "\n"
     ]
    },
    {
     "name": "stderr",
     "output_type": "stream",
     "text": [
      "\r",
      "                                                                                \r"
     ]
    }
   ],
   "source": [
    "from pyspark.sql import SparkSession\n",
    "from pyspark.sql.functions import col, date_format\n",
    "\n",
    "\n",
    "\n",
    "hour_test = df_hour.withColumn(\"month\", date_format(\"ds\", \"yyyy-MM-dd\"))\n",
    "\n",
    "\n",
    "train_ratio = 0.5  \n",
    "test_ratio = 1.0 - train_ratio\n",
    "\n",
    "\n",
    "def split_data_by_month(df, train_ratio, test_ratio, seed=42):\n",
    "    train_df, test_df = df.randomSplit([train_ratio, test_ratio], seed=seed)\n",
    "    return train_df, test_df\n",
    "\n",
    "\n",
    "train_df, test_df = split_data_by_month(df_hour, train_ratio, test_ratio)\n",
    "\n",
    "\n",
    "print(\"Training:\", train_df.count(), \"-> {:.2f}%\".format((train_df.count() / df_hour.count()) * 100))\n",
    "print(\"Testing:\", test_df.count(), \"-> {:.2f}%\".format((test_df.count() / df_hour.count()) * 100))\n",
    "\n",
    "# Caching the dataframe\n",
    "hour_train_df = hour_train_df.drop('month')\n",
    "hour_test_df = hour_test_df.drop('month')\n",
    "\n",
    "\n",
    "# Caching the dataframe\n",
    "hour_train_df.cache()\n",
    "hour_test_df.cache()\n",
    "\n",
    "\n",
    "# Schema\n",
    "hour_train_df.printSchema()\n",
    "hour_test_df.printSchema()"
   ]
  },
  {
   "cell_type": "code",
   "execution_count": 34,
   "id": "1b906dfc",
   "metadata": {},
   "outputs": [
    {
     "name": "stderr",
     "output_type": "stream",
     "text": [
      "                                                                                \r"
     ]
    },
    {
     "ename": "NameError",
     "evalue": "name 'forecast' is not defined",
     "output_type": "error",
     "traceback": [
      "\u001b[0;31m---------------------------------------------------------------------------\u001b[0m",
      "\u001b[0;31mNameError\u001b[0m                                 Traceback (most recent call last)",
      "\u001b[0;32m/tmp/ipykernel_7497/1347572298.py\u001b[0m in \u001b[0;36m<module>\u001b[0;34m\u001b[0m\n\u001b[1;32m      3\u001b[0m \u001b[0mbackend\u001b[0m \u001b[0;34m=\u001b[0m \u001b[0mFugueBackend\u001b[0m\u001b[0;34m(\u001b[0m\u001b[0mspark\u001b[0m\u001b[0;34m,\u001b[0m \u001b[0;34m{\u001b[0m\u001b[0;34m\"fugue.spark.use_pandas_udf\"\u001b[0m\u001b[0;34m:\u001b[0m\u001b[0;32mTrue\u001b[0m\u001b[0;34m}\u001b[0m\u001b[0;34m)\u001b[0m\u001b[0;34m\u001b[0m\u001b[0;34m\u001b[0m\u001b[0m\n\u001b[1;32m      4\u001b[0m \u001b[0;34m\u001b[0m\u001b[0m\n\u001b[0;32m----> 5\u001b[0;31m pred_hour = forecast(hour_train_df, \n\u001b[0m\u001b[1;32m      6\u001b[0m                      \u001b[0;34m[\u001b[0m\u001b[0mAutoARIMA\u001b[0m\u001b[0;34m(\u001b[0m\u001b[0mseason_length\u001b[0m \u001b[0;34m=\u001b[0m \u001b[0;36m24\u001b[0m\u001b[0;34m)\u001b[0m\u001b[0;34m]\u001b[0m\u001b[0;34m,\u001b[0m\u001b[0;34m\u001b[0m\u001b[0;34m\u001b[0m\u001b[0m\n\u001b[1;32m      7\u001b[0m                      \u001b[0mfreq\u001b[0m \u001b[0;34m=\u001b[0m \u001b[0;34m\"H\"\u001b[0m\u001b[0;34m,\u001b[0m\u001b[0;34m\u001b[0m\u001b[0;34m\u001b[0m\u001b[0m\n",
      "\u001b[0;31mNameError\u001b[0m: name 'forecast' is not defined"
     ]
    }
   ],
   "source": [
    "n_test = int((hour_test.count())/2)\n",
    "\n",
    "backend = FugueBackend(spark, {\"fugue.spark.use_pandas_udf\":True})\n",
    "\n",
    "pred_hour = forecast(hour_train_df, \n",
    "                     [AutoARIMA(season_length = 24)], \n",
    "                     freq = \"H\", \n",
    "                     h = n_test,\n",
    "                     level = [90],\n",
    "                     parallel=backend)\n",
    "\n",
    "pred_hour.printSchema()\n",
    "pred_hour.count()"
   ]
  },
  {
   "cell_type": "code",
   "execution_count": null,
   "id": "7fd715a7",
   "metadata": {},
   "outputs": [],
   "source": []
  }
 ],
 "metadata": {
  "kernelspec": {
   "display_name": "Python 3 (ipykernel)",
   "language": "python",
   "name": "python3"
  },
  "language_info": {
   "codemirror_mode": {
    "name": "ipython",
    "version": 3
   },
   "file_extension": ".py",
   "mimetype": "text/x-python",
   "name": "python",
   "nbconvert_exporter": "python",
   "pygments_lexer": "ipython3",
   "version": "3.10.12"
  }
 },
 "nbformat": 4,
 "nbformat_minor": 5
}
